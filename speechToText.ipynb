{
 "cells": [
  {
   "cell_type": "code",
   "execution_count": null,
   "id": "6545fa46",
   "metadata": {
    "scrolled": true
   },
   "outputs": [],
   "source": [
    "import speech_recognition as sr"
   ]
  },
  {
   "cell_type": "code",
   "execution_count": null,
   "id": "764cb65d",
   "metadata": {},
   "outputs": [],
   "source": [
    "r=sr.Recognizer()\n",
    "#song=sr.AudioFile('coldplayDemo.wav')\n",
    "song=sr.AudioFile('sample1.wav')"
   ]
  },
  {
   "cell_type": "markdown",
   "id": "43dcd6a8",
   "metadata": {},
   "source": [
    "------ Part 0 -------\n",
    "\n",
    "Know your audio!"
   ]
  },
  {
   "cell_type": "code",
   "execution_count": null,
   "id": "7bba75f9",
   "metadata": {},
   "outputs": [],
   "source": [
    "from pydub import AudioSegment"
   ]
  },
  {
   "cell_type": "code",
   "execution_count": null,
   "id": "b7fe6d08",
   "metadata": {},
   "outputs": [],
   "source": [
    "wav_file = AudioSegment.from_file(file = \"sample1.wav\", \n",
    "                                  format = \"wav\") "
   ]
  },
  {
   "cell_type": "code",
   "execution_count": null,
   "id": "0a2ccd94",
   "metadata": {
    "scrolled": true
   },
   "outputs": [],
   "source": [
    "#  To find frame rate of song/file\n",
    "print(wav_file.frame_rate)   "
   ]
  },
  {
   "cell_type": "code",
   "execution_count": null,
   "id": "ea4c41bc",
   "metadata": {},
   "outputs": [],
   "source": [
    "print(len(wav_file))"
   ]
  },
  {
   "cell_type": "markdown",
   "id": "b30dfb00",
   "metadata": {},
   "source": [
    "------- Part 1 -------\n",
    "\n",
    "Simple demo on how a sample audio is converted into text!\n",
    "And create a word cloud with it."
   ]
  },
  {
   "cell_type": "code",
   "execution_count": null,
   "id": "0048edf8",
   "metadata": {},
   "outputs": [],
   "source": [
    "with song as source:\n",
    "    audio=r.record(source)\n"
   ]
  },
  {
   "cell_type": "code",
   "execution_count": null,
   "id": "1873554a",
   "metadata": {
    "scrolled": true
   },
   "outputs": [],
   "source": [
    "text=r.recognize_google(audio)\n",
    "text"
   ]
  },
  {
   "cell_type": "code",
   "execution_count": null,
   "id": "52d4e4a7",
   "metadata": {},
   "outputs": [],
   "source": [
    "from wordcloud import WordCloud\n",
    "import matplotlib.pyplot as plt"
   ]
  },
  {
   "cell_type": "code",
   "execution_count": null,
   "id": "d5c27427",
   "metadata": {},
   "outputs": [],
   "source": [
    "wordcloud = WordCloud(collocations = False, background_color = 'white').generate(text)"
   ]
  },
  {
   "cell_type": "code",
   "execution_count": null,
   "id": "82c9ef6c",
   "metadata": {},
   "outputs": [],
   "source": [
    "plt.imshow(wordcloud)\n",
    "plt.axis(\"off\")\n",
    "plt.show()"
   ]
  },
  {
   "cell_type": "markdown",
   "id": "7cb31c10",
   "metadata": {},
   "source": [
    "If the o/p does not make any sense, it's probably because the audio might have background noise."
   ]
  },
  {
   "cell_type": "markdown",
   "id": "3fa8f5cc",
   "metadata": {},
   "source": [
    "-------- Part2 -------\n",
    "\n",
    "Fixing the background noice issue!"
   ]
  },
  {
   "cell_type": "code",
   "execution_count": null,
   "id": "24c11352",
   "metadata": {},
   "outputs": [],
   "source": [
    "with song as source:\n",
    "    audio= r.adjust_for_ambient_noise(source)\n",
    "    audio = r.record(source)\n"
   ]
  },
  {
   "cell_type": "code",
   "execution_count": null,
   "id": "d443a2c2",
   "metadata": {},
   "outputs": [],
   "source": [
    "r.recognize_google(audio)"
   ]
  },
  {
   "cell_type": "markdown",
   "id": "c41b7cc6",
   "metadata": {},
   "source": [
    "Converting sppech to text for a song won't work.. too much background noise."
   ]
  },
  {
   "cell_type": "markdown",
   "id": "115e6778",
   "metadata": {},
   "source": [
    "------ Part 3 ------"
   ]
  },
  {
   "cell_type": "markdown",
   "id": "3dcf6688",
   "metadata": {},
   "source": [
    "Working with real time audio i.e using your mic.\n",
    "\n",
    "\n",
    "We will use google speech recognition... \n",
    "For testing purposes, we're just using the default API key\n",
    "It will only work for 1 min, it's because we are using free version of GSR. "
   ]
  },
  {
   "cell_type": "code",
   "execution_count": null,
   "id": "af4773e4",
   "metadata": {},
   "outputs": [],
   "source": [
    "with sr.Microphone() as source:\n",
    "    \n",
    "    print(\"Talk\")\n",
    "    audio_text = r.adjust_for_ambient_noise(source, duration = 5)\n",
    "            # audio_text = r.energy_threshold=300 # below= silent \n",
    "            # recognizer_instance.dynamic_energy_threshold = True    \n",
    "    audio_text = r.listen(source)\n",
    "    print(\"Time over, thanks\")\n",
    "\n",
    "# recoginize_() method will throw a request error if the API is unreachable, hence using exception handling\n",
    "    #recognizer_instance.adjust_for_ambient_noise(source, duration = 1)\n",
    "#     recognizer_instance.energy_threshold\n",
    "#     Higher values mean that it will be less sensitive, which is useful if you are in a loud room.\n",
    "    \n",
    "#     try:\n",
    "    print(\"Text: \"+r.recognize_google(audio_text, Language=\"en-IN\"))\n",
    "        \n",
    "        #, language=\"hi-IN\"\n",
    "        # en-IN -> Indian English, \n",
    "        #hi-IN -> Hindi \n",
    "        # default = american english\n",
    "\n",
    "#     except IndexError:                                  \n",
    "#         print(\"No internet connection\")\n",
    "#     except KeyError:                                    \n",
    "#         print(\"Invalid API key or quota maxed out\")\n",
    "#     except LookupError:                                 \n",
    "#         print(\"Could not understand audio\")\n",
    "#     except WaitTimeoutError:\n",
    "#         print(\"Waiting a long time for you to start talking.. Speak fasst :| \")"
   ]
  },
  {
   "cell_type": "markdown",
   "id": "e1eb8bc6",
   "metadata": {},
   "source": [
    "recognizer_instance.record(source, duration = None)\n",
    "Records up to duration seconds of audio from source (an AudioSource instance) into an AudioData instance, which it returns.\n",
    "\n",
    "recognizer_instance.listen(source, timeout = None)\n",
    "The timeout parameter is the maximum number of seconds that it will wait for a phrase to start before giving up and throwing a TimeoutException exception.\n"
   ]
  },
  {
   "cell_type": "markdown",
   "id": "6f1f0b4d",
   "metadata": {},
   "source": [
    "------- Fancy It Up! -------"
   ]
  },
  {
   "cell_type": "code",
   "execution_count": null,
   "id": "280e2cb6",
   "metadata": {},
   "outputs": [],
   "source": [
    "def speechRech():\n",
    "    print(\"**** press enter to Start ****\")\n",
    "    inputData=input()\n",
    "    if inputData == \"\":\n",
    "        try:\n",
    "            with sr.Microphone() as source:\n",
    "                    print(\"------  TALK  ------\")\n",
    "                    audio_text = r.adjust_for_ambient_noise(source, duration = 5)\n",
    "                    audio_text = r.listen(source,timeout=2)\n",
    "                    print(\"Time over, thanks\")\n",
    "                    print(\"Text: \"+r.recognize_google(audio_text))\n",
    "        except sr.WaitTimeoutError as e:\n",
    "            print(\"Timeout; {0}\".format(e))\n",
    "        except sr.UnknownValueError:\n",
    "            print(\"Google Speech Recognition could not understand audio\")\n",
    "    else:\n",
    "        print(\"Wrong Key X_X Try Again :) \")\n",
    "\n",
    "if __name__==\"__main__\":\n",
    "    speechRech()\n"
   ]
  },
  {
   "cell_type": "markdown",
   "id": "8df32fa2",
   "metadata": {},
   "source": [
    "------- Part 4 -------\n",
    "\n",
    "Working with audio in background\n",
    "\n",
    "Handling multiple task together"
   ]
  },
  {
   "cell_type": "code",
   "execution_count": null,
   "id": "382ec5f8",
   "metadata": {
    "scrolled": true
   },
   "outputs": [],
   "source": [
    "import speech_recognition as sr\n",
    "\n",
    "# background thread\n",
    "def callback(recognizer, audio):                          # this is called from the background thread\n",
    "    try:\n",
    "        print(\"You said: \" + recognizer.recognize(audio))  # received audio data, now need to recognize it\n",
    "    except:\n",
    "        print(\"Error :(\")\n",
    "\n",
    "r = sr.Recognizer()\n",
    "mic = sr.Microphone()\n",
    "\n",
    "with mic as source:\n",
    "    r.adjust_for_ambient_noise(source,duration = 10)\n",
    "\n",
    "#Some unrealted computation to see if speech rec works on side\n",
    "for _ in range(50):\n",
    "    print(\"hello\")\n",
    "    time.sleep(0.1)\n",
    "    \n",
    "stop=r.listen_in_background(mic, callback)\n",
    "# callback is called when we have some audio to recognize\n",
    "# We can't call the function callback(), Don't put parenthis,it means we are calling that function.\n",
    "# If we just print nae of the function we will se it as a link\n",
    "# When our program needs callback function  it will use it automatically\n",
    "# other function calls our callback function depends on the requirement and nature of other function\n",
    "\n",
    "\n",
    "# listen_in_background: what happens is you can do other task and our program will stilll listen in background\n",
    "# It like multiple threads working side by side\n",
    "# If main thread finished, the second thread will stop\n",
    "\n",
    "stop(wait_for_stop=True) # if you don't speek for 2 3 sec program will stop\n",
    "\n",
    "# wait_for_stop: predefined method.\n"
   ]
  },
  {
   "cell_type": "code",
   "execution_count": null,
   "id": "3ca60d4b",
   "metadata": {},
   "outputs": [],
   "source": []
  }
 ],
 "metadata": {
  "kernelspec": {
   "display_name": "Python 3",
   "language": "python",
   "name": "python3"
  },
  "language_info": {
   "codemirror_mode": {
    "name": "ipython",
    "version": 3
   },
   "file_extension": ".py",
   "mimetype": "text/x-python",
   "name": "python",
   "nbconvert_exporter": "python",
   "pygments_lexer": "ipython3",
   "version": "3.9.2"
  }
 },
 "nbformat": 4,
 "nbformat_minor": 5
}
